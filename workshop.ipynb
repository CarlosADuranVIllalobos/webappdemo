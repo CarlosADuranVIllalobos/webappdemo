{
 "cells": [
  {
   "cell_type": "markdown",
   "id": "47f02bff",
   "metadata": {},
   "source": [
    "# Second Activity: Hands-on demonstration\n",
    "\n",
    "A group task where the attendees will provide a suitable feeding strategy for a T-cell growth simulation.\n",
    "\n",
    "**Instructions**: \n",
    "\n",
    "1. Gather in groups and make sure you are inside the browser explorer in Jupyter notebook. With the file *.ipynb open.  \n",
    "2. You will be faced with 2 scenarios involving the growth of T-cells using a mechanisti model. \n",
    "3.  \n",
    "\n",
    "<figure align=\"center\" style=\"padding: 10px\">\n",
    "<img alt=\"MPC\" src=\"images/Simulation.jpg\" width=\"800px\">\n",
    "<figcaption align = \"center\"> T-cell growth simulation </figcaption>\n",
    "</figure>"
   ]
  },
  {
   "cell_type": "markdown",
   "id": "395cfd21-1f6f-4487-bba0-42da2751652a",
   "metadata": {},
   "source": [
    "## Scenario 1: Ideal case study\n",
    "\n",
    "This scenario involves the growth of CAR-T cells after CAR transduction in a bioreactor. It is an ideal case where we have full information about the Vible T-cells growth and how the glucose feed can affect it.\n",
    "\n",
    "**Objective**: Make adjustments in the Glucose feed to bring the viable T-cells graph closer to the exponential phase at the desired harvest point."
   ]
  },
  {
   "cell_type": "code",
   "execution_count": 1,
   "id": "e89381e3",
   "metadata": {},
   "outputs": [
    {
     "data": {
      "application/vnd.jupyter.widget-view+json": {
       "model_id": "d784ad9ecc914b58863f4b518aed4014",
       "version_major": 2,
       "version_minor": 0
      },
      "text/plain": [
       "Box(children=(HTML(value='<h4>Glucose Feed:</h4>'), GridspecLayout(children=(FloatSlider(value=1.0, descriptio…"
      ]
     },
     "metadata": {},
     "output_type": "display_data"
    },
    {
     "data": {
      "application/vnd.jupyter.widget-view+json": {
       "model_id": "59efb48251f0482685757643be18512a",
       "version_major": 2,
       "version_minor": 0
      },
      "text/plain": [
       "Output()"
      ]
     },
     "metadata": {},
     "output_type": "display_data"
    }
   ],
   "source": [
    "from gui_interface import sim_ideal\n",
    "var = [95, 0, 0, -30] # variability: [viability , inhibitor conc., growth rate, start of the exhaustion] [%]\n",
    "sim_ideal(var)"
   ]
  },
  {
   "cell_type": "markdown",
   "id": "1d3e882d-bd95-4feb-a0f7-bd983d17aede",
   "metadata": {},
   "source": [
    "## Scenario 2: Realistic case study\n",
    "\n",
    "This scenario is similar to the previous one with the difference that we only have information from an end-point prediction of viable T-cells.\n",
    "\n",
    "**Objective**: Make adjustments in the Glucose feed to bring the viable T-cells end-point closer to the desired harvest point."
   ]
  },
  {
   "cell_type": "code",
   "execution_count": 2,
   "id": "83fb208d-c981-465d-97f7-12be38ce3144",
   "metadata": {},
   "outputs": [
    {
     "data": {
      "application/vnd.jupyter.widget-view+json": {
       "model_id": "80174f853543484eada8ee20e1a90dfb",
       "version_major": 2,
       "version_minor": 0
      },
      "text/plain": [
       "Box(children=(HTML(value='<h4>Glucose Feed:</h4>'), GridspecLayout(children=(FloatSlider(value=1.0, descriptio…"
      ]
     },
     "metadata": {},
     "output_type": "display_data"
    },
    {
     "data": {
      "application/vnd.jupyter.widget-view+json": {
       "model_id": "acaec74e4fc548d98b7e021106dd7e2a",
       "version_major": 2,
       "version_minor": 0
      },
      "text/plain": [
       "Output()"
      ]
     },
     "metadata": {},
     "output_type": "display_data"
    }
   ],
   "source": [
    "from gui_interface import sim_real\n",
    "var = [98, -100, 0, 0] # variability: [viability , inhibitor conc., growth rate, start of the exhaustion] [%]\n",
    "sim_real(var)"
   ]
  },
  {
   "cell_type": "markdown",
   "id": "f5e0474b-44cd-4870-aca7-d05ce8542ee1",
   "metadata": {},
   "source": [
    "## Importance of Soft sensors and Model Predictive Control\n",
    "\n",
    "Soft sensors are indispensable tools in the field of cell and gene therapy, enabling real-time monitoring, process optimization, quality control, and regulatory compliance. Model Predictive Control is essential in cell and gene therapy manufacturing because it offers a dynamic and adaptable approach to process control, ensuring high product quality, and the ability to handle the complexity and uncertainties inherent in these advanced bioprocesses.They both contribute to the overall success of these therapies by ensuring consistent and high-quality production, which is essential for patient safety and therapeutic effectiveness.\n",
    "\n",
    "\n",
    "<table><tr>\n",
    "<td> \n",
    "  <p align=\"center\" style=\"padding: 10px\">\n",
    "    <img alt=\"MPC\" src=\"images/MPC.jpg\" width=\"400px\">\n",
    "    <br>\n",
    "    <em style=\"color: grey\">Variability reduction using MPC</em>\n",
    "  </p> \n",
    "</td>\n",
    "<td> \n",
    "  <p align=\"center\">\n",
    "    <img alt=\"Soft\" src=\"images/soft_sensor.jpg\" width=\"400px\">\n",
    "    <br>\n",
    "    <em style=\"color: grey\">Soft sensor predictions</em>\n",
    "  </p> \n",
    "</td>\n",
    "</tr></table>\n",
    "\n",
    "Links:\n",
    "\n"
   ]
  },
  {
   "cell_type": "code",
   "execution_count": null,
   "id": "da103033-1416-48e3-b4b8-dd7e009406fb",
   "metadata": {},
   "outputs": [],
   "source": []
  }
 ],
 "metadata": {
  "celltoolbar": "Edit Metadata",
  "kernelspec": {
   "display_name": "Python 3 (ipykernel)",
   "language": "python",
   "name": "python3"
  },
  "language_info": {
   "codemirror_mode": {
    "name": "ipython",
    "version": 3
   },
   "file_extension": ".py",
   "mimetype": "text/x-python",
   "name": "python",
   "nbconvert_exporter": "python",
   "pygments_lexer": "ipython3",
   "version": "3.11.4"
  },
  "varInspector": {
   "cols": {
    "lenName": 16,
    "lenType": 16,
    "lenVar": 40
   },
   "kernels_config": {
    "python": {
     "delete_cmd_postfix": "",
     "delete_cmd_prefix": "del ",
     "library": "var_list.py",
     "varRefreshCmd": "print(var_dic_list())"
    },
    "r": {
     "delete_cmd_postfix": ") ",
     "delete_cmd_prefix": "rm(",
     "library": "var_list.r",
     "varRefreshCmd": "cat(var_dic_list()) "
    }
   },
   "types_to_exclude": [
    "module",
    "function",
    "builtin_function_or_method",
    "instance",
    "_Feature"
   ],
   "window_display": false
  }
 },
 "nbformat": 4,
 "nbformat_minor": 5
}
