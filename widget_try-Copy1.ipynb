{
 "cells": [
  {
   "cell_type": "markdown",
   "id": "47f02bff",
   "metadata": {},
   "source": [
    "# T-cell model update \n",
    "Created on 18/05/2022 \n",
    "@author: Carlos Alberto Duran Villalobos-University of Manchester\n",
    "\n",
    "\n",
    "This script provides the code for the latest mechanistic usntructred model, using the framework described in the paper \"Experimentally integrated dynamic modelling for intuitive optimisation of cell based processes and manufacture\".\n",
    "\n",
    "T-cells were seeded in an ambr®15 bioreactor system (Sartorius Stedim); temperature, impeller speed, pH and DO were set to 37 °C, 450 RPM, pH 7.3 and 100 % respectively.T-cells in the ambr bioreactor were subject to varying media exchange and initial density culture regimes and cell counts recorded\n",
    "\n",
    "\n",
    "\n",
    "ODE Equations:\n",
    "$$ dX/dt = rg \\cdot X \\cdot Mx(G) - rd \\cdot X \\cdot Mp(I) - rdg \\cdot Mig(G) - F/V\\cdot X\\tag{1}$$\n",
    "$$ dX_{dead}/dt = rd \\cdot X \\cdot Mp(I) + rdg \\cdot Mig(G) - F/V\\cdot X_{dead}\\tag{2}$$\n",
    "F: Glucose feed rate [mL/h]\n",
    "$$ dG/dt= - rc \\cdot \\frac{X}{10^6} \\cdot Mpg(G) -F/V\\cdot G + F/V\\cdot Co \\tag{3}$$  \n",
    "Co: Glucose concentration in the the feeding vessel [mg/mL]\n",
    "$$ dI/dt= ri \\cdot \\frac{X}{10^6} \\tag{4}$$ \n",
    "$$ dV/dt= F-Vs \\tag{5}$$\n",
    "\n",
    "$$ d{DO}_2/dt=-M_{o_2}\\cdot X +k_La\\left({{DO}_2}^\\ast-DO\\right)-\\frac{{DO}_2dV}{Vdt}- F/V\\cdot {DO}_2 \\tag{6}$$ \n",
    "\n",
    "$$ dH^+/dt= \\gamma \\cdot \\left(rg  \\cdot Mi(I)\\cdot Mx(G) \\cdot M_{pH}(pH)-\\frac{F \\cdot C}{V}\\right) + \\left[\\frac{-B +\\sqrt{B^2+4e^-14}}{2} - H^+  \\right]\\frac{1}{\\Delta_t}\\tag{7}$$ \n",
    "\n",
    "$$ dH^+/dt= 10^{\\gamma \\cdot X} \\tag{7}$$ \n",
    "$$ dpH/dt= -log_{10}(dH^+/dt) \\tag{8}$$ \n",
    "\n",
    "\n",
    "\n",
    "\n",
    "Vs: Sampling volume [mL]\n",
    "\n",
    "Promotor of T-cell growth rate by glucose: $$ Mx(G) =  \\frac{G}{(kp + G)}  $$ \n",
    "\n",
    "Promotion of T-cell death by inhibitor: $$ Mp(I) = {(1 + e^{-ap \\cdot (I-bp)})}^{-1}  $$  \n",
    "\n",
    "Inhibition in T-cell death by glucose: $$ Mig(G) = 1 - {(1 + e^{-ag \\cdot (G-bg)})}^{-1}  $$  \n",
    "\n",
    "Promotion of glucose consumption rate: $$ Mpg(G) = \\frac {G}{(kgu + G)}   $$  \n",
    "\n",
    "Promotion of glucose consumption rate: $$ M_{o_2}({DO}_2) = \\frac {{DO}_2}{(k_{o_2} + {DO}_2)}   $$  \n",
    "\n",
    "\n",
    "\n",
    "$$ M_{pH}(pH) = \\frac{1}{1+[k1/H^+]+[H^+/k2]}  $$  \n",
    "$$ B =  \\frac{\\left(10^{-14}/H^+-H^+\\right)V-(C_a\\cdot F_a+ C_b\\cdot F_b)\\Delta_t}{V+(F_a+F_b)\\Delta_t}  $$  \n",
    "\n",
    "Fa: Acid flow rate [mL/h]\n",
    "\n",
    "Fb: Base flow rate [mL/h]\n",
    "\n",
    "$\\Delta_t$: step size\n",
    "\n",
    "Constants:\n",
    "\n",
    "|Symbol|Parameter|Value|Units|Reference|   \n",
    "|:-:|:-|:-:|:-:|:-|\n",
    "|$rg$|Growth rate|0.0122|h<sup>-1</sup>|Estimated|\n",
    "|$rd$|Cell decay|0.0128|h<sup>-1</sup>|Estimated|\n",
    "|$rdg$|Cell death by lack of glucose|0.060|h<sup>-1</sup>|Estimated|\n",
    "|$rc$|Glc Sp Rate|0.05|mg⋅1x10<sup>6</sup>⋅h<sup>-1</sup>|Maryam's article|\n",
    "|$kp$|Monod gluc consumption|3.602|mg⋅mL<sup>-1</sup>|Estimated|\n",
    "|$bgluc$|Threshold of gluc decay|0.050|mg⋅mL<sup>-1</sup>|Maryam's article|\n",
    "|$agluc$|Sensitivity of gluc decay|30|Unitless|Maryam's article|\n",
    "|$kgu$|Monod glucose use|0.2|mg⋅mL<sup>-1</sup>|Maryam's article|\n",
    "|$ri$|Inhibition creation|1|I units h<sup>-1</sup>|Maryam's article|\n",
    "|$bp$|Threshold of death promotion|80|I units|Maryam's article|\n",
    "|$ap$|Sensitivity of death promotion|0.207|Unitless|Estimated|\n",
    "|$k_{o_2}$|Monod oxygen consumption|1.145e7|mg⋅mL<sup>-1|Estimated|\n",
    "|$\\gamma$|pH change|5.899e-09|mg⋅mL<sup>-1|Estimated|\n",
    "    \n",
    "pH from \"Evidence-based guidelines for controlling pH in mammalian live-cell culture systems\"\n",
    "\n",
    "AMBR15 capacity of 10-15mL work volume\n"
   ]
  },
  {
   "cell_type": "markdown",
   "id": "e1ed7610-d74d-4868-a939-6d02b59ea308",
   "metadata": {},
   "source": [
    "Scenario 1:\n",
    "play to obtain best feeding strategy (day) in expanential phase.\n",
    "have complete graph.\n",
    "\n",
    "Scenario 2:\n",
    "Have only end-point prediction, choose strategy:\n",
    "1.Underfeed\n",
    "2.Overfeed \n",
    "3.Normal feed\n",
    "\n",
    "\n",
    "Compare with the use of MPC:\n"
   ]
  },
  {
   "cell_type": "code",
   "execution_count": null,
   "id": "a2f22715",
   "metadata": {},
   "outputs": [],
   "source": []
  },
  {
   "cell_type": "markdown",
   "id": "395cfd21-1f6f-4487-bba0-42da2751652a",
   "metadata": {},
   "source": [
    "## Scenario 1: Ideal case study"
   ]
  },
  {
   "cell_type": "code",
   "execution_count": 1,
   "id": "e89381e3",
   "metadata": {},
   "outputs": [
    {
     "data": {
      "application/vnd.jupyter.widget-view+json": {
       "model_id": "f61a3d8b7e114d8f84b44ce431561928",
       "version_major": 2,
       "version_minor": 0
      },
      "text/plain": [
       "Box(children=(HTML(value='<h4>Glucose Feed:</h4>'), GridspecLayout(children=(FloatSlider(value=1.0, descriptio…"
      ]
     },
     "metadata": {},
     "output_type": "display_data"
    },
    {
     "data": {
      "application/vnd.jupyter.widget-view+json": {
       "model_id": "228976e6c32c4dfd93cb14d1c6704e6f",
       "version_major": 2,
       "version_minor": 0
      },
      "text/plain": [
       "Output()"
      ]
     },
     "metadata": {},
     "output_type": "display_data"
    },
    {
     "data": {
      "application/vnd.jupyter.widget-view+json": {
       "model_id": "5c24b2b3de684b94b4ccfcf3fbcefd07",
       "version_major": 2,
       "version_minor": 0
      },
      "text/plain": [
       "Box(children=(HTML(value='<h4>Glucose Feed:</h4>'), GridspecLayout(children=(FloatSlider(value=1.0, descriptio…"
      ]
     },
     "metadata": {},
     "output_type": "display_data"
    },
    {
     "data": {
      "application/vnd.jupyter.widget-view+json": {
       "model_id": "0bfd40c9e2cd43688b333c5b2c6e14a4",
       "version_major": 2,
       "version_minor": 0
      },
      "text/plain": [
       "Output()"
      ]
     },
     "metadata": {},
     "output_type": "display_data"
    }
   ],
   "source": [
    "#import sys\n",
    "#!{sys.executable} -m pip install numpy\n",
    "#import sys\n",
    "#!conda install --yes --prefix {sys.prefix} numpy\n",
    "\n",
    "from gui_interface import sim_ideal\n",
    "var = [95, 0, 0, -30] # variability: [viability , inhibitor conc., growth rate, start of the exhaustion] [%]\n",
    "sim_ideal(var)"
   ]
  },
  {
   "cell_type": "markdown",
   "id": "1d3e882d-bd95-4feb-a0f7-bd983d17aede",
   "metadata": {},
   "source": [
    "## Scenario 2: Realistic case study"
   ]
  },
  {
   "cell_type": "code",
   "execution_count": 2,
   "id": "83fb208d-c981-465d-97f7-12be38ce3144",
   "metadata": {},
   "outputs": [
    {
     "data": {
      "application/vnd.jupyter.widget-view+json": {
       "model_id": "127a0d79867b403b83fd1b9e1fe67a80",
       "version_major": 2,
       "version_minor": 0
      },
      "text/plain": [
       "Box(children=(HTML(value='<h4>Glucose Feed:</h4>'), GridspecLayout(children=(FloatSlider(value=1.0, descriptio…"
      ]
     },
     "metadata": {},
     "output_type": "display_data"
    },
    {
     "data": {
      "application/vnd.jupyter.widget-view+json": {
       "model_id": "7f062d9e0d4c4051861cadb4c203963f",
       "version_major": 2,
       "version_minor": 0
      },
      "text/plain": [
       "Output()"
      ]
     },
     "metadata": {},
     "output_type": "display_data"
    }
   ],
   "source": [
    "from gui_interface import sim_real\n",
    "var = [98, -50, 0, 0] # variability: [viability , inhibitor conc., growth rate, start of the exhaustion] [%]\n",
    "sim_real(var)"
   ]
  },
  {
   "cell_type": "markdown",
   "id": "1a2fdd23-fe0b-4369-ac8b-3aadcfedee17",
   "metadata": {},
   "source": [
    "## Importance of Soft sensors and Model Predictive Control"
   ]
  },
  {
   "cell_type": "code",
   "execution_count": 4,
   "id": "968f8aaf-eb75-40b2-9f89-d3820578fdf2",
   "metadata": {
    "tags": []
   },
   "outputs": [],
   "source": [
    "#!conda list --export > requirements.txt"
   ]
  },
  {
   "cell_type": "code",
   "execution_count": null,
   "id": "2ba8741f-6a28-4824-a20f-800d512f9e07",
   "metadata": {},
   "outputs": [],
   "source": []
  }
 ],
 "metadata": {
  "celltoolbar": "Edit Metadata",
  "kernelspec": {
   "display_name": "Python 3 (ipykernel)",
   "language": "python",
   "name": "python3"
  },
  "language_info": {
   "codemirror_mode": {
    "name": "ipython",
    "version": 3
   },
   "file_extension": ".py",
   "mimetype": "text/x-python",
   "name": "python",
   "nbconvert_exporter": "python",
   "pygments_lexer": "ipython3",
   "version": "3.8.17"
  },
  "varInspector": {
   "cols": {
    "lenName": 16,
    "lenType": 16,
    "lenVar": 40
   },
   "kernels_config": {
    "python": {
     "delete_cmd_postfix": "",
     "delete_cmd_prefix": "del ",
     "library": "var_list.py",
     "varRefreshCmd": "print(var_dic_list())"
    },
    "r": {
     "delete_cmd_postfix": ") ",
     "delete_cmd_prefix": "rm(",
     "library": "var_list.r",
     "varRefreshCmd": "cat(var_dic_list()) "
    }
   },
   "types_to_exclude": [
    "module",
    "function",
    "builtin_function_or_method",
    "instance",
    "_Feature"
   ],
   "window_display": false
  }
 },
 "nbformat": 4,
 "nbformat_minor": 5
}
